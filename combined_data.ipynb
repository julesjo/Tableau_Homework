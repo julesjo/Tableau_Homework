{
 "cells": [
  {
   "cell_type": "code",
   "execution_count": 19,
   "metadata": {},
   "outputs": [],
   "source": [
    "import pandas as pd \n",
    "import numpy as np \n"
   ]
  },
  {
   "cell_type": "code",
   "execution_count": 20,
   "metadata": {},
   "outputs": [],
   "source": [
    "path_012019 = \"Data/JC-201901-citibike-tripdata.csv\"\n",
    "path_022019 = \"Data/JC-201902-citibike-tripdata.csv\"\n",
    "path_032019 = \"Data/JC-201903-citibike-tripdata.csv\"\n",
    "path_042019 = \"Data/JC-201904-citibike-tripdata.csv\"\n",
    "path_052019 = \"Data/JC-201905-citibike-tripdata.csv\"\n",
    "path_062019 = \"Data/JC-201906-citibike-tripdata.csv\"\n",
    "path_072019 = \"Data/JC-201907-citibike-tripdata.csv\"\n",
    "path_082019 = \"Data/JC-201908-citibike-tripdata.csv\"\n",
    "path_092019 = \"Data/JC-201909-citibike-tripdata.csv\"\n",
    "path_102019 = \"Data/JC-201910-citibike-tripdata.csv\"\n",
    "path_112019 = \"Data/JC-201911-citibike-tripdata.csv\"\n",
    "path_122019 = \"Data/JC-201912-citibike-tripdata.csv\"\n",
    "path_012020 = \"Data/JC-202001-citibike-tripdata.csv\"\n",
    "path_022020 = \"Data/JC-202002-citibike-tripdata.csv\"\n",
    "path_032020 = \"Data/JC-202003-citibike-tripdata.csv\"\n"
   ]
  },
  {
   "cell_type": "code",
   "execution_count": 21,
   "metadata": {},
   "outputs": [],
   "source": [
    "paths_list= [path_012019, path_022019, path_032019, path_042019, path_052019, path_062019, path_072019, path_082019, path_092019, path_102019, path_112019, path_122019, path_012020, path_022020, path_032020]"
   ]
  },
  {
   "cell_type": "code",
   "execution_count": 23,
   "metadata": {},
   "outputs": [
    {
     "output_type": "stream",
     "name": "stdout",
     "text": "471648\n"
    }
   ],
   "source": [
    "combined_df = pd.read_csv(path_012019)\n",
    "for path in paths_list:\n",
    "    df = pd.read_csv(path)\n",
    "    combined_df = combined_df.merge(df, how = \"outer\")\n",
    "print(len(combined_df))"
   ]
  },
  {
   "cell_type": "code",
   "execution_count": 24,
   "metadata": {},
   "outputs": [
    {
     "output_type": "execute_result",
     "data": {
      "text/plain": "   tripduration                 starttime                  stoptime  \\\n0           201  2019-01-01 03:09:09.7110  2019-01-01 03:12:30.8790   \n1           505  2019-01-01 05:18:00.1060  2019-01-01 05:26:25.9050   \n2           756  2019-01-01 10:36:33.3400  2019-01-01 10:49:10.2600   \n3          1575  2019-01-01 12:43:38.6430  2019-01-01 13:09:54.5280   \n4          1566  2019-01-01 12:43:39.6010  2019-01-01 13:09:46.5100   \n\n   start station id start station name  start station latitude  \\\n0              3183     Exchange Place               40.716247   \n1              3183     Exchange Place               40.716247   \n2              3183     Exchange Place               40.716247   \n3              3183     Exchange Place               40.716247   \n4              3183     Exchange Place               40.716247   \n\n   start station longitude  end station id    end station name  \\\n0               -74.033459            3214    Essex Light Rail   \n1               -74.033459            3638       Washington St   \n2               -74.033459            3192  Liberty Light Rail   \n3               -74.033459            3638       Washington St   \n4               -74.033459            3638       Washington St   \n\n   end station latitude  end station longitude  bikeid    usertype  \\\n0             40.712774             -74.036486   29612  Subscriber   \n1             40.724294             -74.035483   29213  Subscriber   \n2             40.711242             -74.055701   26164  Subscriber   \n3             40.724294             -74.035483   29672    Customer   \n4             40.724294             -74.035483   29522    Customer   \n\n   birth year  gender  \n0        1993       1  \n1        1972       2  \n2        1985       1  \n3        1969       0  \n4        1969       0  ",
      "text/html": "<div>\n<style scoped>\n    .dataframe tbody tr th:only-of-type {\n        vertical-align: middle;\n    }\n\n    .dataframe tbody tr th {\n        vertical-align: top;\n    }\n\n    .dataframe thead th {\n        text-align: right;\n    }\n</style>\n<table border=\"1\" class=\"dataframe\">\n  <thead>\n    <tr style=\"text-align: right;\">\n      <th></th>\n      <th>tripduration</th>\n      <th>starttime</th>\n      <th>stoptime</th>\n      <th>start station id</th>\n      <th>start station name</th>\n      <th>start station latitude</th>\n      <th>start station longitude</th>\n      <th>end station id</th>\n      <th>end station name</th>\n      <th>end station latitude</th>\n      <th>end station longitude</th>\n      <th>bikeid</th>\n      <th>usertype</th>\n      <th>birth year</th>\n      <th>gender</th>\n    </tr>\n  </thead>\n  <tbody>\n    <tr>\n      <th>0</th>\n      <td>201</td>\n      <td>2019-01-01 03:09:09.7110</td>\n      <td>2019-01-01 03:12:30.8790</td>\n      <td>3183</td>\n      <td>Exchange Place</td>\n      <td>40.716247</td>\n      <td>-74.033459</td>\n      <td>3214</td>\n      <td>Essex Light Rail</td>\n      <td>40.712774</td>\n      <td>-74.036486</td>\n      <td>29612</td>\n      <td>Subscriber</td>\n      <td>1993</td>\n      <td>1</td>\n    </tr>\n    <tr>\n      <th>1</th>\n      <td>505</td>\n      <td>2019-01-01 05:18:00.1060</td>\n      <td>2019-01-01 05:26:25.9050</td>\n      <td>3183</td>\n      <td>Exchange Place</td>\n      <td>40.716247</td>\n      <td>-74.033459</td>\n      <td>3638</td>\n      <td>Washington St</td>\n      <td>40.724294</td>\n      <td>-74.035483</td>\n      <td>29213</td>\n      <td>Subscriber</td>\n      <td>1972</td>\n      <td>2</td>\n    </tr>\n    <tr>\n      <th>2</th>\n      <td>756</td>\n      <td>2019-01-01 10:36:33.3400</td>\n      <td>2019-01-01 10:49:10.2600</td>\n      <td>3183</td>\n      <td>Exchange Place</td>\n      <td>40.716247</td>\n      <td>-74.033459</td>\n      <td>3192</td>\n      <td>Liberty Light Rail</td>\n      <td>40.711242</td>\n      <td>-74.055701</td>\n      <td>26164</td>\n      <td>Subscriber</td>\n      <td>1985</td>\n      <td>1</td>\n    </tr>\n    <tr>\n      <th>3</th>\n      <td>1575</td>\n      <td>2019-01-01 12:43:38.6430</td>\n      <td>2019-01-01 13:09:54.5280</td>\n      <td>3183</td>\n      <td>Exchange Place</td>\n      <td>40.716247</td>\n      <td>-74.033459</td>\n      <td>3638</td>\n      <td>Washington St</td>\n      <td>40.724294</td>\n      <td>-74.035483</td>\n      <td>29672</td>\n      <td>Customer</td>\n      <td>1969</td>\n      <td>0</td>\n    </tr>\n    <tr>\n      <th>4</th>\n      <td>1566</td>\n      <td>2019-01-01 12:43:39.6010</td>\n      <td>2019-01-01 13:09:46.5100</td>\n      <td>3183</td>\n      <td>Exchange Place</td>\n      <td>40.716247</td>\n      <td>-74.033459</td>\n      <td>3638</td>\n      <td>Washington St</td>\n      <td>40.724294</td>\n      <td>-74.035483</td>\n      <td>29522</td>\n      <td>Customer</td>\n      <td>1969</td>\n      <td>0</td>\n    </tr>\n  </tbody>\n</table>\n</div>"
     },
     "metadata": {},
     "execution_count": 24
    }
   ],
   "source": [
    "combined_df.head()"
   ]
  },
  {
   "cell_type": "code",
   "execution_count": 25,
   "metadata": {},
   "outputs": [],
   "source": [
    "combined_df.to_csv(\"Data/CityBike_data.csv\")"
   ]
  },
  {
   "cell_type": "code",
   "execution_count": null,
   "metadata": {},
   "outputs": [],
   "source": []
  }
 ],
 "metadata": {
  "language_info": {
   "codemirror_mode": {
    "name": "ipython",
    "version": 3
   },
   "file_extension": ".py",
   "mimetype": "text/x-python",
   "name": "python",
   "nbconvert_exporter": "python",
   "pygments_lexer": "ipython3",
   "version": "3.7.5-final"
  },
  "orig_nbformat": 2,
  "kernelspec": {
   "name": "python37564bitpythondataconda34df4132d4294e2597a2c93758d66fb8",
   "display_name": "Python 3.7.5 64-bit ('PythonData': conda)"
  }
 },
 "nbformat": 4,
 "nbformat_minor": 2
}